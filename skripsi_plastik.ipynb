{
  "nbformat": 4,
  "nbformat_minor": 0,
  "metadata": {
    "colab": {
      "name": "skripsi_plastik.ipynb",
      "private_outputs": true,
      "provenance": [],
      "collapsed_sections": [],
      "include_colab_link": true
    },
    "kernelspec": {
      "name": "python3",
      "display_name": "Python 3"
    },
    "language_info": {
      "name": "python"
    }
  },
  "cells": [
    {
      "cell_type": "markdown",
      "metadata": {
        "id": "view-in-github",
        "colab_type": "text"
      },
      "source": [
        "<a href=\"https://colab.research.google.com/github/Suwandi-amin-sangaji/plastik_vgg16/blob/main/skripsi_plastik.ipynb\" target=\"_parent\"><img src=\"https://colab.research.google.com/assets/colab-badge.svg\" alt=\"Open In Colab\"/></a>"
      ]
    },
    {
      "cell_type": "code",
      "source": [
        "# import keras, tensorflow dan VGG16\n",
        "import tensorflow as tf\n",
        "from tensorflow.keras.applications import VGG16\n",
        "from tensorflow import keras\n",
        "import keras_preprocessing\n",
        "from keras_preprocessing import image\n",
        "from keras_preprocessing.image import ImageDataGenerator\n",
        "from tensorflow.keras.models import Sequential\n",
        "import matplotlib.pyplot as plt\n",
        "from keras.utils.vis_utils import plot_model\n",
        "from keras.applications.vgg16 import preprocess_input\n",
        "import numpy as np\n",
        "from PIL import Image"
      ],
      "metadata": {
        "id": "MdSiP77A-DFj"
      },
      "execution_count": null,
      "outputs": []
    },
    {
      "cell_type": "code",
      "source": [
        "from google.colab import drive\n",
        "drive.mount('/content/drive')"
      ],
      "metadata": {
        "id": "mYRFvJzTRAFp"
      },
      "execution_count": null,
      "outputs": []
    },
    {
      "cell_type": "code",
      "source": [
        "base_dir = '/content/drive/MyDrive/dataset/datasets-plastik'"
      ],
      "metadata": {
        "id": "VqrxeD0OvU8e"
      },
      "execution_count": null,
      "outputs": []
    },
    {
      "cell_type": "code",
      "execution_count": null,
      "metadata": {
        "id": "Vgk2Zh3EZL4E"
      },
      "outputs": [],
      "source": [
        "import os\n",
        "# Mengambil data traning\n",
        "train_dir = os.path.join(base_dir, 'train')\n",
        "# mengambil data validation\n",
        "val_dir = os.path.join(base_dir, 'val')\n",
        "\n",
        "classes=[\"hdpe\",\"ldpe\",\"other\",\"pet\",\"pp\",\"ps\",'pvc']"
      ]
    },
    {
      "cell_type": "code",
      "source": [
        "# mengambil data setip classnya\n",
        "train_hdpe_dir = os.path.join(base_dir, 'train/hdpe')\n",
        "train_ldpe_dir = os.path.join(base_dir, 'train/ldpe')\n",
        "train_other_dir = os.path.join(base_dir, 'train/other')\n",
        "train_pet_dir = os.path.join(base_dir, 'train/pet')\n",
        "train_pp_dir = os.path.join(base_dir, 'train/pp')\n",
        "train_ps_dir = os.path.join(base_dir, 'train/ps')\n",
        "train_pvc_dir = os.path.join(base_dir, 'train/pvc')\n",
        "\n",
        "val_hdpe_dir = os.path.join(base_dir, 'val/hdpe')\n",
        "val_ldpe_dir = os.path.join(base_dir, 'val/ldpe')\n",
        "val_other_dir = os.path.join(base_dir, 'val/other')\n",
        "val_pet_dir = os.path.join(base_dir, 'val/pet')\n",
        "val_pp_dir = os.path.join(base_dir, 'val/pp')\n",
        "val_ps_dir = os.path.join(base_dir, 'val/ps')\n",
        "val_pvc_dir = os.path.join(base_dir, 'val/pvc')"
      ],
      "metadata": {
        "id": "U0w69YTiRfPY"
      },
      "execution_count": null,
      "outputs": []
    },
    {
      "cell_type": "code",
      "source": [
        "# melihat isi\n",
        "train_hdpe_fnames = os.listdir(train_hdpe_dir)\n",
        "train_ldpe_fnames= os.listdir(train_ldpe_dir)\n",
        "train_other_fnames = os.listdir(train_other_dir)\n",
        "train_pet_fnames = os.listdir(train_pet_dir)\n",
        "train_pp_fnames = os.listdir(train_pp_dir)\n",
        "train_ps_fnames = os.listdir(train_ps_dir)\n",
        "train_pvc_fnames = os.listdir(train_pvc_dir)\n",
        "\n",
        "print(train_hdpe_fnames[:7])\n",
        "print(train_ldpe_fnames[:7])\n",
        "print(train_other_fnames[:7])\n",
        "print(train_pet_fnames[:7])\n",
        "print(train_pp_fnames[:7])\n",
        "print(train_ps_fnames[:7])\n",
        "print(train_pvc_fnames[:7])\n"
      ],
      "metadata": {
        "id": "obpIvgEDLQU8"
      },
      "execution_count": null,
      "outputs": []
    },
    {
      "cell_type": "code",
      "source": [
        "plt.figure(figsize=(30,14))\n",
        "\n",
        "for i in range(7):\n",
        "    directory = os.path.join(train_dir, classes[i])\n",
        "    for j in range(5):\n",
        "        path = os.path.join(directory, os.listdir(directory)[j])\n",
        "        img = Image.open(path)\n",
        "        \n",
        "        plt.subplot(7, 5, i*5 + j + 1)\n",
        "        plt.imshow(img)\n",
        "        \n",
        "        if j == 0:\n",
        "            plt.ylabel(classes[i], fontsize=20)\n",
        "        \n",
        "plt.setp(plt.gcf().get_axes(), xticks=[], yticks=[]);\n",
        "plt.tight_layout()\n",
        "plt.show()"
      ],
      "metadata": {
        "id": "5ixtRMeo-5Qk"
      },
      "execution_count": null,
      "outputs": []
    },
    {
      "cell_type": "code",
      "source": [
        "print(\"total traning hdpe images : \", len(train_hdpe_fnames))\n",
        "print(\"total traning ldpe images : \", len(train_ldpe_fnames))\n",
        "print(\"total traning other images : \", len(train_other_fnames))\n",
        "print(\"total traning pet images : \", len(train_pet_fnames))\n",
        "print(\"total traning pp images : \", len(train_pp_fnames))\n",
        "print(\"total traning ps images : \", len(train_ps_fnames))\n",
        "print(\"total traning pvc images : \", len(train_pvc_fnames))\n",
        "\n",
        "print('=====================================================')\n",
        "\n",
        "print(\"total validation hdpe images : \", len(val_hdpe_dir))\n",
        "print(\"total validation ldpe images : \", len(val_ldpe_dir))\n",
        "print(\"total validation other images : \", len(val_other_dir))\n",
        "print(\"total validation pet images : \", len(val_pet_dir))\n",
        "print(\"total validation pp images : \", len(val_pp_dir))\n",
        "print(\"total validation ps images : \", len(val_ps_dir))\n",
        "print(\"total validation pvc images : \", len(val_pvc_dir))"
      ],
      "metadata": {
        "id": "JUKd72_qLUd9"
      },
      "execution_count": null,
      "outputs": []
    },
    {
      "cell_type": "code",
      "source": [
        "# membuat arsitektur jaringan untuk klasifikasi\n",
        "# menggunakan VGG16\n",
        "conv_base = VGG16(include_top=False, weights='imagenet',  input_shape=(150,150,3))\n",
        "conv_base.trainable = False"
      ],
      "metadata": {
        "id": "f3E0DDF2WQKa"
      },
      "execution_count": null,
      "outputs": []
    },
    {
      "cell_type": "code",
      "source": [
        "# Model Jaringan dengan model Squendtial\n",
        "model = tf.keras.models.Sequential([\n",
        "                                    conv_base,\n",
        "                                    tf.keras.layers.Flatten(),\n",
        "                                    tf.keras.layers.Dropout(0.5),\n",
        "                                    tf.keras.layers.Dense(512, activation='relu'),\n",
        "                                    tf.keras.layers.Dense(7, activation='softmax')\n",
        "])\n",
        "\n",
        "model.summary()"
      ],
      "metadata": {
        "id": "n_F4YF1cW5Nl"
      },
      "execution_count": null,
      "outputs": []
    },
    {
      "cell_type": "code",
      "source": [
        "# plot_model(model)"
      ],
      "metadata": {
        "id": "aAHO6bNDFBks"
      },
      "execution_count": null,
      "outputs": []
    },
    {
      "cell_type": "code",
      "source": [
        "opt = keras.optimizers.Adam(learning_rate=0.01)\n",
        "model.compile(loss = 'categorical_crossentropy', optimizer=opt, metrics=['acc'])"
      ],
      "metadata": {
        "id": "rqjzw43vX7um"
      },
      "execution_count": null,
      "outputs": []
    },
    {
      "cell_type": "markdown",
      "source": [
        "#Augmentasi data"
      ],
      "metadata": {
        "id": "LBkO_2h5sWnK"
      }
    },
    {
      "cell_type": "code",
      "source": [
        "# augmentasi data\n",
        "train_datagen = ImageDataGenerator(\n",
        "    rescale=1./255,\n",
        "    rotation_range=40,\n",
        "    width_shift_range=0.2,\n",
        "    height_shift_range=0.2,\n",
        "    shear_range=0.3,\n",
        "    zoom_range=0.3,\n",
        "    horizontal_flip=True,\n",
        "    fill_mode='nearest'\n",
        "    \n",
        ")\n",
        "val_datagen = ImageDataGenerator(rescale=1./255)"
      ],
      "metadata": {
        "id": "W9Af744PZFVb"
      },
      "execution_count": null,
      "outputs": []
    },
    {
      "cell_type": "code",
      "source": [
        "train_generator = train_datagen.flow_from_directory(\n",
        "     train_dir,\n",
        "     target_size=(150,150),\n",
        "     validation_split = 0.3,\n",
        "     subset = 'training',\n",
        "     class_mode='categorical',\n",
        "     batch_size = 32,\n",
        " )\n",
        "val_generator = val_datagen.flow_from_directory(\n",
        "     val_dir,\n",
        "     target_size=(150,150),\n",
        "     validation_split = 0.3,\n",
        "     subset = 'training',\n",
        "     class_mode='categorical',\n",
        "     batch_size = 32,\n",
        " )"
      ],
      "metadata": {
        "id": "C8mV_VoQ3PIA"
      },
      "execution_count": null,
      "outputs": []
    },
    {
      "cell_type": "code",
      "source": [
        "from keras.callbacks import EarlyStopping\n",
        "\n",
        "early_stopping = EarlyStopping(\n",
        "    monitor='val_loss',\n",
        "    min_delta=0.001,\n",
        "    patience=3,\n",
        "    verbose=1\n",
        ")\n",
        "\n",
        "cb = [early_stopping]"
      ],
      "metadata": {
        "id": "2StvV3ewe-au"
      },
      "execution_count": null,
      "outputs": []
    },
    {
      "cell_type": "code",
      "source": [
        "from keras import callbacks\n",
        "%%time\n",
        "history = model.fit(\n",
        "    train_generator,\n",
        "    epochs=50,\n",
        "    validation_data = val_generator,\n",
        "    callbacks= cb\n",
        ")"
      ],
      "metadata": {
        "id": "roh3w0TxHo4C"
      },
      "execution_count": null,
      "outputs": []
    },
    {
      "cell_type": "code",
      "source": [
        "#evulate model\n",
        "score = model.evaluate(val_generator)\n",
        "print('Test Loss :',score[0])\n",
        "print('Test Accuracy :',score[1])"
      ],
      "metadata": {
        "id": "M91Zrz-zMpa_"
      },
      "execution_count": null,
      "outputs": []
    },
    {
      "cell_type": "code",
      "source": [
        "# dict(zip(classes, val_generator))"
      ],
      "metadata": {
        "id": "FyiRY4rAh3E_"
      },
      "execution_count": null,
      "outputs": []
    },
    {
      "cell_type": "code",
      "source": [
        "#plotting training values\n",
        "import matplotlib.pyplot as plt\n",
        "import seaborn as sns\n",
        "sns.set()\n",
        "\n",
        "train_acc = history.history['acc']\n",
        "val_acc = history.history['val_acc']\n",
        "train_loss = history.history['loss']\n",
        "val_loss = history.history['val_loss']\n",
        "\n",
        "epochs = range(1, len(train_acc) + 1)\n",
        "plt.figure(figsize=(10,6))\n",
        "plt.plot(epochs, train_acc, 'b*-', label = 'Training accuracy')\n",
        "plt.plot(epochs, val_acc, 'r', label = 'Validation accuracy')\n",
        "plt.title('Training and validation accuracy')\n",
        "plt.legend()\n",
        "plt.figure()\n",
        "plt.show()"
      ],
      "metadata": {
        "id": "eo0eVKS_NUoJ"
      },
      "execution_count": null,
      "outputs": []
    },
    {
      "cell_type": "code",
      "source": [
        "plt.figure(figsize=(10,6))\n",
        "plt.plot(epochs, train_loss, 'b*-', label = 'Training loss')\n",
        "plt.plot(epochs, val_loss, 'r', label = 'Validation loss')\n",
        "plt.title('Training and validation loss')\n",
        "plt.legend()\n",
        "plt.show()"
      ],
      "metadata": {
        "id": "quPv0CoXFdCU"
      },
      "execution_count": null,
      "outputs": []
    },
    {
      "cell_type": "code",
      "source": [
        "from tensorflow.keras.preprocessing import image\n",
        "output_class = ['HDPE', 'LDPE', 'OTHER', 'PET', 'PP', 'PS', 'PVC']\n",
        "def waste_prediction(new_image):\n",
        "  test_image = image.load_img(new_image, target_size = (150,150))\n",
        "  plt.axis(\"off\")\n",
        "  plt.imshow(test_image)\n",
        "  plt.show()\n",
        " \n",
        "  test_image = image.img_to_array(test_image) / 255\n",
        "  test_image = np.expand_dims(test_image, axis=0)\n",
        "\n",
        "  predicted_array = model.predict(test_image)\n",
        "  predicted_value = output_class[np.argmax(predicted_array)]\n",
        "  predicted_accuracy = round(np.max(predicted_array) * 100, 2)\n",
        "\n",
        "  print(\"Your waste material is \", predicted_value, \" with \", predicted_accuracy, \" % accuracy\")"
      ],
      "metadata": {
        "id": "1c_eTOsAGgjU"
      },
      "execution_count": null,
      "outputs": []
    },
    {
      "cell_type": "code",
      "source": [
        "waste_prediction('/content/drive/MyDrive/dataset/datasets-plastik/val/pet/aqua6.jpg')"
      ],
      "metadata": {
        "id": "87hWv8M7GiNV"
      },
      "execution_count": null,
      "outputs": []
    },
    {
      "cell_type": "code",
      "source": [
        "waste_prediction('/content/drive/MyDrive/dataset/datasets-plastik/val/ldpe/Kantong_Plastik_Hitam_Uk_35.jpg')"
      ],
      "metadata": {
        "id": "Ub6bX-GzNi8Y"
      },
      "execution_count": null,
      "outputs": []
    },
    {
      "cell_type": "code",
      "source": [
        "waste_prediction('/content/drive/MyDrive/dataset/datasets-plastik/val/ps/sterofoam-styrofoam-1280x720.jpg')"
      ],
      "metadata": {
        "id": "9EK2EOlOApjr"
      },
      "execution_count": null,
      "outputs": []
    },
    {
      "cell_type": "code",
      "source": [
        "# save model untuk web\n",
        "save = model.save(\"/content/drive/MyDrive/dataset/datasets-plastik/modelbaru/model.hdf5\")\n",
        "print('berhasil')"
      ],
      "metadata": {
        "id": "ywwTfwvzLW4b"
      },
      "execution_count": null,
      "outputs": []
    },
    {
      "cell_type": "code",
      "source": [
        "# SaveModel\n",
        "model.save('model.h5')\n",
        "model.save('/content/drive/MyDrive/dataset/datasets-plastik/modelbaru/model-cnn-vgg16_new.h5')"
      ],
      "metadata": {
        "id": "4jdJQ719LZMC"
      },
      "execution_count": null,
      "outputs": []
    },
    {
      "cell_type": "markdown",
      "source": [
        "matrix"
      ],
      "metadata": {
        "id": "nimn0wzLhEJO"
      }
    }
  ]
}